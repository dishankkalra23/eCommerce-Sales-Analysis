{
 "cells": [
  {
   "cell_type": "markdown",
   "metadata": {},
   "source": [
    "## Libraries"
   ]
  },
  {
   "cell_type": "code",
   "execution_count": 1,
   "metadata": {},
   "outputs": [],
   "source": [
    "import os\n",
    "import glob\n",
    "import pandas as pd\n"
   ]
  },
  {
   "cell_type": "markdown",
   "metadata": {},
   "source": [
    "## Making list of all csv files "
   ]
  },
  {
   "cell_type": "code",
   "execution_count": 2,
   "metadata": {},
   "outputs": [
    {
     "data": {
      "text/plain": [
       "['April_2019.csv',\n",
       " 'August_2019.csv',\n",
       " 'December_2019.csv',\n",
       " 'February_2019.csv',\n",
       " 'January_2019.csv',\n",
       " 'July_2019.csv',\n",
       " 'June_2019.csv',\n",
       " 'March_2019.csv',\n",
       " 'May_2019.csv',\n",
       " 'November_2019.csv',\n",
       " 'October_2019.csv',\n",
       " 'September_2019.csv']"
      ]
     },
     "execution_count": 2,
     "metadata": {},
     "output_type": "execute_result"
    }
   ],
   "source": [
    "# changing our current directory where our csv files are saved\n",
    "os.chdir(\"E:\\Pandas-Sales-Analysis\\SalesAnalysis\\Sales_Data\")\n",
    "\n",
    "# only choosing files with .csv extension\n",
    "extension = 'csv'\n",
    "\n",
    "all_filenames = [i for i in glob.glob('*_2019.csv')]\n",
    "\n",
    "# if we have not set this to current directory, then we have to pass all the files:\n",
    "# Another way: all_filenames = [i for i in glob.glob(\"E:\\Pandas-Sales-Analysis\\SalesAnalysis\\Sales_Data\\January_2019.csv\")]\n",
    "\n",
    "all_filenames"
   ]
  },
  {
   "cell_type": "markdown",
   "metadata": {},
   "source": [
    "## Merging 12 months data into single csv file"
   ]
  },
  {
   "cell_type": "code",
   "execution_count": 4,
   "metadata": {},
   "outputs": [
    {
     "name": "stdout",
     "output_type": "stream",
     "text": [
      "Size of merged data frame:  (186849, 6)\n"
     ]
    },
    {
     "data": {
      "text/html": [
       "<div>\n",
       "<style scoped>\n",
       "    .dataframe tbody tr th:only-of-type {\n",
       "        vertical-align: middle;\n",
       "    }\n",
       "\n",
       "    .dataframe tbody tr th {\n",
       "        vertical-align: top;\n",
       "    }\n",
       "\n",
       "    .dataframe thead th {\n",
       "        text-align: right;\n",
       "    }\n",
       "</style>\n",
       "<table border=\"1\" class=\"dataframe\">\n",
       "  <thead>\n",
       "    <tr style=\"text-align: right;\">\n",
       "      <th></th>\n",
       "      <th>Order ID</th>\n",
       "      <th>Product</th>\n",
       "      <th>Quantity Ordered</th>\n",
       "      <th>Price Each</th>\n",
       "      <th>Order Date</th>\n",
       "      <th>Purchase Address</th>\n",
       "    </tr>\n",
       "  </thead>\n",
       "  <tbody>\n",
       "    <tr>\n",
       "      <th>3014</th>\n",
       "      <td>164871</td>\n",
       "      <td>AAA Batteries (4-pack)</td>\n",
       "      <td>1</td>\n",
       "      <td>2.99</td>\n",
       "      <td>03/24/19 22:16</td>\n",
       "      <td>951 Elm St, Boston, MA 02215</td>\n",
       "    </tr>\n",
       "    <tr>\n",
       "      <th>22204</th>\n",
       "      <td>316875</td>\n",
       "      <td>USB-C Charging Cable</td>\n",
       "      <td>1</td>\n",
       "      <td>11.95</td>\n",
       "      <td>12/10/19 22:51</td>\n",
       "      <td>940 Hickory St, Boston, MA 02215</td>\n",
       "    </tr>\n",
       "    <tr>\n",
       "      <th>14393</th>\n",
       "      <td>207789</td>\n",
       "      <td>AA Batteries (4-pack)</td>\n",
       "      <td>2</td>\n",
       "      <td>3.84</td>\n",
       "      <td>05/25/19 20:12</td>\n",
       "      <td>299 11th St, Portland, OR 97035</td>\n",
       "    </tr>\n",
       "    <tr>\n",
       "      <th>4216</th>\n",
       "      <td>154521</td>\n",
       "      <td>USB-C Charging Cable</td>\n",
       "      <td>1</td>\n",
       "      <td>11.95</td>\n",
       "      <td>02/02/19 22:09</td>\n",
       "      <td>132 Dogwood St, Boston, MA 02215</td>\n",
       "    </tr>\n",
       "    <tr>\n",
       "      <th>13343</th>\n",
       "      <td>189277</td>\n",
       "      <td>Apple Airpods Headphones</td>\n",
       "      <td>1</td>\n",
       "      <td>150</td>\n",
       "      <td>04/22/19 18:54</td>\n",
       "      <td>390 12th St, Austin, TX 73301</td>\n",
       "    </tr>\n",
       "    <tr>\n",
       "      <th>6330</th>\n",
       "      <td>254219</td>\n",
       "      <td>Macbook Pro Laptop</td>\n",
       "      <td>1</td>\n",
       "      <td>1700</td>\n",
       "      <td>09/01/19 17:07</td>\n",
       "      <td>658 Lakeview St, Los Angeles, CA 90001</td>\n",
       "    </tr>\n",
       "    <tr>\n",
       "      <th>6745</th>\n",
       "      <td>265796</td>\n",
       "      <td>Flatscreen TV</td>\n",
       "      <td>1</td>\n",
       "      <td>300</td>\n",
       "      <td>10/15/19 12:17</td>\n",
       "      <td>810 Cedar St, Portland, OR 97035</td>\n",
       "    </tr>\n",
       "    <tr>\n",
       "      <th>4208</th>\n",
       "      <td>166008</td>\n",
       "      <td>AAA Batteries (4-pack)</td>\n",
       "      <td>1</td>\n",
       "      <td>2.99</td>\n",
       "      <td>03/30/19 12:38</td>\n",
       "      <td>978 7th St, Atlanta, GA 30301</td>\n",
       "    </tr>\n",
       "    <tr>\n",
       "      <th>902</th>\n",
       "      <td>260215</td>\n",
       "      <td>Google Phone</td>\n",
       "      <td>1</td>\n",
       "      <td>600</td>\n",
       "      <td>10/09/19 18:49</td>\n",
       "      <td>630 1st St, Boston, MA 02215</td>\n",
       "    </tr>\n",
       "    <tr>\n",
       "      <th>10638</th>\n",
       "      <td>233088</td>\n",
       "      <td>Apple Airpods Headphones</td>\n",
       "      <td>1</td>\n",
       "      <td>150</td>\n",
       "      <td>07/03/19 21:39</td>\n",
       "      <td>145 Washington St, San Francisco, CA 94016</td>\n",
       "    </tr>\n",
       "    <tr>\n",
       "      <th>9759</th>\n",
       "      <td>257516</td>\n",
       "      <td>USB-C Charging Cable</td>\n",
       "      <td>1</td>\n",
       "      <td>11.95</td>\n",
       "      <td>09/09/19 05:37</td>\n",
       "      <td>673 Chestnut St, Atlanta, GA 30301</td>\n",
       "    </tr>\n",
       "    <tr>\n",
       "      <th>4293</th>\n",
       "      <td>227014</td>\n",
       "      <td>Bose SoundSport Headphones</td>\n",
       "      <td>1</td>\n",
       "      <td>99.99</td>\n",
       "      <td>07/18/19 16:38</td>\n",
       "      <td>827 Forest St, San Francisco, CA 94016</td>\n",
       "    </tr>\n",
       "    <tr>\n",
       "      <th>3994</th>\n",
       "      <td>226727</td>\n",
       "      <td>20in Monitor</td>\n",
       "      <td>1</td>\n",
       "      <td>109.99</td>\n",
       "      <td>07/17/19 07:07</td>\n",
       "      <td>630 Spruce St, Seattle, WA 98101</td>\n",
       "    </tr>\n",
       "    <tr>\n",
       "      <th>1922</th>\n",
       "      <td>297489</td>\n",
       "      <td>AAA Batteries (4-pack)</td>\n",
       "      <td>1</td>\n",
       "      <td>2.99</td>\n",
       "      <td>12/16/19 13:56</td>\n",
       "      <td>470 2nd St, New York City, NY 10001</td>\n",
       "    </tr>\n",
       "    <tr>\n",
       "      <th>9190</th>\n",
       "      <td>149991</td>\n",
       "      <td>Wired Headphones</td>\n",
       "      <td>1</td>\n",
       "      <td>11.99</td>\n",
       "      <td>01/10/19 10:19</td>\n",
       "      <td>408 10th St, Boston, MA 02215</td>\n",
       "    </tr>\n",
       "  </tbody>\n",
       "</table>\n",
       "</div>"
      ],
      "text/plain": [
       "      Order ID                     Product Quantity Ordered Price Each  \\\n",
       "3014    164871      AAA Batteries (4-pack)                1       2.99   \n",
       "22204   316875        USB-C Charging Cable                1      11.95   \n",
       "14393   207789       AA Batteries (4-pack)                2       3.84   \n",
       "4216    154521        USB-C Charging Cable                1      11.95   \n",
       "13343   189277    Apple Airpods Headphones                1        150   \n",
       "6330    254219          Macbook Pro Laptop                1       1700   \n",
       "6745    265796               Flatscreen TV                1        300   \n",
       "4208    166008      AAA Batteries (4-pack)                1       2.99   \n",
       "902     260215                Google Phone                1        600   \n",
       "10638   233088    Apple Airpods Headphones                1        150   \n",
       "9759    257516        USB-C Charging Cable                1      11.95   \n",
       "4293    227014  Bose SoundSport Headphones                1      99.99   \n",
       "3994    226727                20in Monitor                1     109.99   \n",
       "1922    297489      AAA Batteries (4-pack)                1       2.99   \n",
       "9190    149991            Wired Headphones                1      11.99   \n",
       "\n",
       "           Order Date                            Purchase Address  \n",
       "3014   03/24/19 22:16                951 Elm St, Boston, MA 02215  \n",
       "22204  12/10/19 22:51            940 Hickory St, Boston, MA 02215  \n",
       "14393  05/25/19 20:12             299 11th St, Portland, OR 97035  \n",
       "4216   02/02/19 22:09            132 Dogwood St, Boston, MA 02215  \n",
       "13343  04/22/19 18:54               390 12th St, Austin, TX 73301  \n",
       "6330   09/01/19 17:07      658 Lakeview St, Los Angeles, CA 90001  \n",
       "6745   10/15/19 12:17            810 Cedar St, Portland, OR 97035  \n",
       "4208   03/30/19 12:38               978 7th St, Atlanta, GA 30301  \n",
       "902    10/09/19 18:49                630 1st St, Boston, MA 02215  \n",
       "10638  07/03/19 21:39  145 Washington St, San Francisco, CA 94016  \n",
       "9759   09/09/19 05:37          673 Chestnut St, Atlanta, GA 30301  \n",
       "4293   07/18/19 16:38      827 Forest St, San Francisco, CA 94016  \n",
       "3994   07/17/19 07:07            630 Spruce St, Seattle, WA 98101  \n",
       "1922   12/16/19 13:56         470 2nd St, New York City, NY 10001  \n",
       "9190   01/10/19 10:19               408 10th St, Boston, MA 02215  "
      ]
     },
     "execution_count": 4,
     "metadata": {},
     "output_type": "execute_result"
    }
   ],
   "source": [
    "# Initialising empty data frame to store 12 months data\n",
    "all_months = pd.DataFrame()\n",
    "\n",
    "for f in all_filenames:\n",
    "    df = pd.read_csv(f) \n",
    "   \n",
    "    all_months = pd.concat([all_months,df])\n",
    "    # pd.concat([ 1. df: where to concatenate into, 2. df which you want to add in first data frame ])\n",
    "\n",
    "# changing a data frame to csv file using .to_csv\n",
    "all_months.to_csv( \"combined_data.csv\", index=False)\n",
    "# dataframe_name.to_csv('csv_file_name')\n",
    "\n",
    "print(\"Size of merged data frame: \",all_months.shape)\n",
    "\n",
    "all_months.sample(15)"
   ]
  },
  {
   "cell_type": "markdown",
   "metadata": {},
   "source": [
    "# Cleaning or data"
   ]
  },
  {
   "cell_type": "markdown",
   "metadata": {},
   "source": [
    "## Removing rows with all missing values"
   ]
  },
  {
   "cell_type": "code",
   "execution_count": 5,
   "metadata": {},
   "outputs": [
    {
     "data": {
      "text/plain": [
       "(186305, 6)"
      ]
     },
     "execution_count": 5,
     "metadata": {},
     "output_type": "execute_result"
    }
   ],
   "source": [
    "# Checking if there is any null values present\n",
    "# if present then finding there indexes, other info row wise\n",
    "x = all_months[all_months.isnull().any(axis=1)]\n",
    "x\n",
    "\n",
    "# Deleting only those rows which are totally nan i.e. how='all'\n",
    "all_months.dropna(axis=0,how='all',inplace=True)\n",
    "\n",
    "# cheking if there is any nan values, if present then we have to use fillna.\n",
    "z = all_months.isnull().any()\n",
    "z\n",
    "\n",
    "all_months.shape"
   ]
  }
 ],
 "metadata": {
  "kernelspec": {
   "display_name": "Python 3",
   "language": "python",
   "name": "python3"
  },
  "language_info": {
   "codemirror_mode": {
    "name": "ipython",
    "version": 3
   },
   "file_extension": ".py",
   "mimetype": "text/x-python",
   "name": "python",
   "nbconvert_exporter": "python",
   "pygments_lexer": "ipython3",
   "version": "3.8.3"
  }
 },
 "nbformat": 4,
 "nbformat_minor": 4
}
