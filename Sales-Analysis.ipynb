{
 "cells": [
  {
   "cell_type": "markdown",
   "metadata": {},
   "source": [
    "## Libraries"
   ]
  },
  {
   "cell_type": "code",
   "execution_count": 1,
   "metadata": {},
   "outputs": [],
   "source": [
    "import os\n",
    "import glob\n",
    "import pandas as pd\n",
    "import matplotlib.pyplot as plt"
   ]
  },
  {
   "cell_type": "markdown",
   "metadata": {},
   "source": [
    "## Making list of all csv files "
   ]
  },
  {
   "cell_type": "code",
   "execution_count": 2,
   "metadata": {},
   "outputs": [],
   "source": [
    "# changing our current directory where our csv files are saved\n",
    "os.chdir(\"E:\\Pandas-Sales-Analysis\\SalesAnalysis\\Sales_Data\")"
   ]
  },
  {
   "cell_type": "code",
   "execution_count": 3,
   "metadata": {},
   "outputs": [
    {
     "data": {
      "text/plain": [
       "['April_2019.csv',\n",
       " 'August_2019.csv',\n",
       " 'December_2019.csv',\n",
       " 'February_2019.csv',\n",
       " 'January_2019.csv',\n",
       " 'July_2019.csv',\n",
       " 'June_2019.csv',\n",
       " 'March_2019.csv',\n",
       " 'May_2019.csv',\n",
       " 'November_2019.csv',\n",
       " 'October_2019.csv',\n",
       " 'September_2019.csv']"
      ]
     },
     "execution_count": 3,
     "metadata": {},
     "output_type": "execute_result"
    }
   ],
   "source": [
    "# only choosing files with .csv extension\n",
    "extension = 'csv'\n",
    "\n",
    "all_filenames = [i for i in glob.glob('*_2019.csv')]\n",
    "\n",
    "# if we have not set this to current directory, then we have to pass all the files:\n",
    "# Another way: all_filenames = [i for i in glob.glob(\"E:\\Pandas-Sales-Analysis\\SalesAnalysis\\Sales_Data\\January_2019.csv\")]\n",
    "\n",
    "all_filenames"
   ]
  },
  {
   "cell_type": "markdown",
   "metadata": {},
   "source": [
    "## Merging 12 months data into single csv file"
   ]
  },
  {
   "cell_type": "code",
   "execution_count": 4,
   "metadata": {},
   "outputs": [
    {
     "name": "stdout",
     "output_type": "stream",
     "text": [
      "Size of merged data frame:  (186849, 6)\n"
     ]
    },
    {
     "data": {
      "text/plain": [
       "(186849, 6)"
      ]
     },
     "execution_count": 4,
     "metadata": {},
     "output_type": "execute_result"
    }
   ],
   "source": [
    "# Initialising empty data frame to store 12 months data\n",
    "all_data = pd.DataFrame()\n",
    "\n",
    "for f in all_filenames:\n",
    "    df = pd.read_csv(f) \n",
    "   \n",
    "    all_data = pd.concat([all_data,df])\n",
    "    # pd.concat([ 1. df: where to concatenate into, 2. df which you want to add in first data frame ])\n",
    "\n",
    "# changing a data frame to csv file using .to_csv\n",
    "all_data.to_csv( \"combined_data.csv\", index=False)\n",
    "# dataframe_name.to_csv('csv_file_name')\n",
    "\n",
    "print(\"Size of merged data frame: \",all_data.shape)\n",
    "\n",
    "all_data.shape"
   ]
  },
  {
   "cell_type": "markdown",
   "metadata": {},
   "source": [
    "# Cleaning or data"
   ]
  },
  {
   "cell_type": "markdown",
   "metadata": {},
   "source": [
    "## Columns with missing values"
   ]
  },
  {
   "cell_type": "code",
   "execution_count": 5,
   "metadata": {},
   "outputs": [
    {
     "data": {
      "text/plain": [
       "Order ID            True\n",
       "Product             True\n",
       "Quantity Ordered    True\n",
       "Price Each          True\n",
       "Order Date          True\n",
       "Purchase Address    True\n",
       "dtype: bool"
      ]
     },
     "execution_count": 5,
     "metadata": {},
     "output_type": "execute_result"
    }
   ],
   "source": [
    "missing_values = all_data.isna().any()\n",
    "missing_values"
   ]
  },
  {
   "cell_type": "markdown",
   "metadata": {},
   "source": [
    "## Rows with missing values"
   ]
  },
  {
   "cell_type": "code",
   "execution_count": 6,
   "metadata": {},
   "outputs": [
    {
     "data": {
      "text/html": [
       "<div>\n",
       "<style scoped>\n",
       "    .dataframe tbody tr th:only-of-type {\n",
       "        vertical-align: middle;\n",
       "    }\n",
       "\n",
       "    .dataframe tbody tr th {\n",
       "        vertical-align: top;\n",
       "    }\n",
       "\n",
       "    .dataframe thead th {\n",
       "        text-align: right;\n",
       "    }\n",
       "</style>\n",
       "<table border=\"1\" class=\"dataframe\">\n",
       "  <thead>\n",
       "    <tr style=\"text-align: right;\">\n",
       "      <th></th>\n",
       "      <th>Order ID</th>\n",
       "      <th>Product</th>\n",
       "      <th>Quantity Ordered</th>\n",
       "      <th>Price Each</th>\n",
       "      <th>Order Date</th>\n",
       "      <th>Purchase Address</th>\n",
       "    </tr>\n",
       "  </thead>\n",
       "  <tbody>\n",
       "    <tr>\n",
       "      <th>355</th>\n",
       "      <td>NaN</td>\n",
       "      <td>NaN</td>\n",
       "      <td>NaN</td>\n",
       "      <td>NaN</td>\n",
       "      <td>NaN</td>\n",
       "      <td>NaN</td>\n",
       "    </tr>\n",
       "    <tr>\n",
       "      <th>734</th>\n",
       "      <td>NaN</td>\n",
       "      <td>NaN</td>\n",
       "      <td>NaN</td>\n",
       "      <td>NaN</td>\n",
       "      <td>NaN</td>\n",
       "      <td>NaN</td>\n",
       "    </tr>\n",
       "    <tr>\n",
       "      <th>1432</th>\n",
       "      <td>NaN</td>\n",
       "      <td>NaN</td>\n",
       "      <td>NaN</td>\n",
       "      <td>NaN</td>\n",
       "      <td>NaN</td>\n",
       "      <td>NaN</td>\n",
       "    </tr>\n",
       "    <tr>\n",
       "      <th>1552</th>\n",
       "      <td>NaN</td>\n",
       "      <td>NaN</td>\n",
       "      <td>NaN</td>\n",
       "      <td>NaN</td>\n",
       "      <td>NaN</td>\n",
       "      <td>NaN</td>\n",
       "    </tr>\n",
       "    <tr>\n",
       "      <th>1570</th>\n",
       "      <td>NaN</td>\n",
       "      <td>NaN</td>\n",
       "      <td>NaN</td>\n",
       "      <td>NaN</td>\n",
       "      <td>NaN</td>\n",
       "      <td>NaN</td>\n",
       "    </tr>\n",
       "    <tr>\n",
       "      <th>...</th>\n",
       "      <td>...</td>\n",
       "      <td>...</td>\n",
       "      <td>...</td>\n",
       "      <td>...</td>\n",
       "      <td>...</td>\n",
       "      <td>...</td>\n",
       "    </tr>\n",
       "    <tr>\n",
       "      <th>10012</th>\n",
       "      <td>NaN</td>\n",
       "      <td>NaN</td>\n",
       "      <td>NaN</td>\n",
       "      <td>NaN</td>\n",
       "      <td>NaN</td>\n",
       "      <td>NaN</td>\n",
       "    </tr>\n",
       "    <tr>\n",
       "      <th>10274</th>\n",
       "      <td>NaN</td>\n",
       "      <td>NaN</td>\n",
       "      <td>NaN</td>\n",
       "      <td>NaN</td>\n",
       "      <td>NaN</td>\n",
       "      <td>NaN</td>\n",
       "    </tr>\n",
       "    <tr>\n",
       "      <th>10878</th>\n",
       "      <td>NaN</td>\n",
       "      <td>NaN</td>\n",
       "      <td>NaN</td>\n",
       "      <td>NaN</td>\n",
       "      <td>NaN</td>\n",
       "      <td>NaN</td>\n",
       "    </tr>\n",
       "    <tr>\n",
       "      <th>11384</th>\n",
       "      <td>NaN</td>\n",
       "      <td>NaN</td>\n",
       "      <td>NaN</td>\n",
       "      <td>NaN</td>\n",
       "      <td>NaN</td>\n",
       "      <td>NaN</td>\n",
       "    </tr>\n",
       "    <tr>\n",
       "      <th>11662</th>\n",
       "      <td>NaN</td>\n",
       "      <td>NaN</td>\n",
       "      <td>NaN</td>\n",
       "      <td>NaN</td>\n",
       "      <td>NaN</td>\n",
       "      <td>NaN</td>\n",
       "    </tr>\n",
       "  </tbody>\n",
       "</table>\n",
       "<p>544 rows × 6 columns</p>\n",
       "</div>"
      ],
      "text/plain": [
       "      Order ID Product Quantity Ordered Price Each Order Date Purchase Address\n",
       "355        NaN     NaN              NaN        NaN        NaN              NaN\n",
       "734        NaN     NaN              NaN        NaN        NaN              NaN\n",
       "1432       NaN     NaN              NaN        NaN        NaN              NaN\n",
       "1552       NaN     NaN              NaN        NaN        NaN              NaN\n",
       "1570       NaN     NaN              NaN        NaN        NaN              NaN\n",
       "...        ...     ...              ...        ...        ...              ...\n",
       "10012      NaN     NaN              NaN        NaN        NaN              NaN\n",
       "10274      NaN     NaN              NaN        NaN        NaN              NaN\n",
       "10878      NaN     NaN              NaN        NaN        NaN              NaN\n",
       "11384      NaN     NaN              NaN        NaN        NaN              NaN\n",
       "11662      NaN     NaN              NaN        NaN        NaN              NaN\n",
       "\n",
       "[544 rows x 6 columns]"
      ]
     },
     "execution_count": 6,
     "metadata": {},
     "output_type": "execute_result"
    }
   ],
   "source": [
    "missing_val_2 = all_data[all_data.isnull().any(axis=1)]\n",
    "missing_val_2"
   ]
  },
  {
   "cell_type": "markdown",
   "metadata": {},
   "source": [
    "## Number of rows with mising values "
   ]
  },
  {
   "cell_type": "code",
   "execution_count": 7,
   "metadata": {},
   "outputs": [
    {
     "data": {
      "text/plain": [
       "544"
      ]
     },
     "execution_count": 7,
     "metadata": {},
     "output_type": "execute_result"
    }
   ],
   "source": [
    "rows,columns = missing_val_2.shape\n",
    "rows"
   ]
  },
  {
   "cell_type": "markdown",
   "metadata": {},
   "source": [
    "## Deleting only those rows which are totally NAN "
   ]
  },
  {
   "cell_type": "code",
   "execution_count": 8,
   "metadata": {},
   "outputs": [],
   "source": [
    "all_data.dropna(axis=0,how='all',inplace=True)"
   ]
  },
  {
   "cell_type": "markdown",
   "metadata": {},
   "source": [
    "## Checking NAN values  "
   ]
  },
  {
   "cell_type": "code",
   "execution_count": 9,
   "metadata": {},
   "outputs": [
    {
     "data": {
      "text/plain": [
       "Order ID            False\n",
       "Product             False\n",
       "Quantity Ordered    False\n",
       "Price Each          False\n",
       "Order Date          False\n",
       "Purchase Address    False\n",
       "dtype: bool"
      ]
     },
     "execution_count": 9,
     "metadata": {},
     "output_type": "execute_result"
    }
   ],
   "source": [
    "check_nan = all_data.isnull().any()\n",
    "check_nan"
   ]
  },
  {
   "cell_type": "markdown",
   "metadata": {},
   "source": [
    "# Converting Order Date(string datatype) to DateTime format\n",
    "## It gives parser error when we are trying to convert month column to DateTime format"
   ]
  },
  {
   "cell_type": "code",
   "execution_count": 10,
   "metadata": {},
   "outputs": [
    {
     "data": {
      "image/png": "[encoded data removed]",
      "text/plain": [
       "<IPython.core.display.Image object>"
      ]
     },
     "execution_count": 10,
     "metadata": {},
     "output_type": "execute_result"
    }
   ],
   "source": [
    "from IPython.display import Image\n",
    "Image(filename =r'E:\\eCommerce-Sales-Analysis\\Images\\error1.png')"
   ]
  },
  {
   "cell_type": "markdown",
   "metadata": {},
   "source": [
    "## There is still some problematic rows, we have to clean them. "
   ]
  },
  {
   "cell_type": "code",
   "execution_count": 11,
   "metadata": {},
   "outputs": [
    {
     "data": {
      "text/plain": [
       "2339     08\n",
       "14279    07\n",
       "11211    08\n",
       "11393    04\n",
       "4593     04\n",
       "21799    12\n",
       "10526    06\n",
       "15448    11\n",
       "18238    12\n",
       "963      04\n",
       "11770    08\n",
       "6394     12\n",
       "19312    10\n",
       "10282    09\n",
       "22166    12\n",
       "2015     05\n",
       "16556    10\n",
       "586      12\n",
       "16280    10\n",
       "11082    12\n",
       "Name: month, dtype: object"
      ]
     },
     "execution_count": 11,
     "metadata": {},
     "output_type": "execute_result"
    }
   ],
   "source": [
    "all_data['month'] = all_data['Order Date'].str[0:2]\n",
    "all_data['month'].sample(20)"
   ]
  },
  {
   "cell_type": "markdown",
   "metadata": {},
   "source": [
    "## There is presence of string 'Or' in month column, we have to clean it \n",
    "## That's why we are facing errors while converting data type"
   ]
  },
  {
   "cell_type": "code",
   "execution_count": 12,
   "metadata": {},
   "outputs": [
    {
     "data": {
      "image/png": "[encoded data removed]",
      "text/plain": [
       "<IPython.core.display.Image object>"
      ]
     },
     "execution_count": 12,
     "metadata": {},
     "output_type": "execute_result"
    }
   ],
   "source": [
    "from IPython.display import Image\n",
    "Image(filename =r'E:\\eCommerce-Sales-Analysis\\Images\\error2.png')"
   ]
  },
  {
   "cell_type": "markdown",
   "metadata": {},
   "source": [
    "# Cleaning Data - 2\n",
    "## Removing 'Or' from month column"
   ]
  },
  {
   "cell_type": "code",
   "execution_count": 13,
   "metadata": {},
   "outputs": [],
   "source": [
    "# Only putting those rows which doesn't contain 'Or' in month section\n",
    "all_data = all_data[~all_data['month'].str.contains(\"Or\")]\n",
    "# Putting ~ works as an invert\n",
    "\n",
    "# Another way: all_data = all_data[all_data['Month'].str[0:] != \"Or\"]"
   ]
  },
  {
   "cell_type": "code",
   "execution_count": 14,
   "metadata": {},
   "outputs": [
    {
     "data": {
      "text/plain": [
       "False"
      ]
     },
     "execution_count": 14,
     "metadata": {},
     "output_type": "execute_result"
    }
   ],
   "source": [
    "all_data['month'].str.contains(\"Or\").any()"
   ]
  },
  {
   "cell_type": "markdown",
   "metadata": {},
   "source": [
    "## Converting datatype of columns"
   ]
  },
  {
   "cell_type": "code",
   "execution_count": 15,
   "metadata": {},
   "outputs": [],
   "source": [
    "all_data['month'] = all_data['month'].astype('int32')\n",
    "all_data['Price Each'] = all_data['Price Each'].astype('float')\n",
    "all_data['Quantity Ordered'] = all_data['Quantity Ordered'].astype('int32')\n",
    "all_data['Order ID'] = all_data['Order ID'].astype('int32')"
   ]
  },
  {
   "cell_type": "markdown",
   "metadata": {},
   "source": [
    "# What was the best month for sales?"
   ]
  },
  {
   "cell_type": "markdown",
   "metadata": {},
   "source": [
    "## Calculating total sales  "
   ]
  },
  {
   "cell_type": "code",
   "execution_count": 16,
   "metadata": {},
   "outputs": [
    {
     "data": {
      "text/html": [
       "<div>\n",
       "<style scoped>\n",
       "    .dataframe tbody tr th:only-of-type {\n",
       "        vertical-align: middle;\n",
       "    }\n",
       "\n",
       "    .dataframe tbody tr th {\n",
       "        vertical-align: top;\n",
       "    }\n",
       "\n",
       "    .dataframe thead th {\n",
       "        text-align: right;\n",
       "    }\n",
       "</style>\n",
       "<table border=\"1\" class=\"dataframe\">\n",
       "  <thead>\n",
       "    <tr style=\"text-align: right;\">\n",
       "      <th></th>\n",
       "      <th>total_sales</th>\n",
       "    </tr>\n",
       "    <tr>\n",
       "      <th>month</th>\n",
       "      <th></th>\n",
       "    </tr>\n",
       "  </thead>\n",
       "  <tbody>\n",
       "    <tr>\n",
       "      <th>1</th>\n",
       "      <td>1822256.73</td>\n",
       "    </tr>\n",
       "    <tr>\n",
       "      <th>2</th>\n",
       "      <td>2202022.42</td>\n",
       "    </tr>\n",
       "    <tr>\n",
       "      <th>3</th>\n",
       "      <td>2807100.38</td>\n",
       "    </tr>\n",
       "    <tr>\n",
       "      <th>4</th>\n",
       "      <td>3390670.24</td>\n",
       "    </tr>\n",
       "    <tr>\n",
       "      <th>5</th>\n",
       "      <td>3152606.75</td>\n",
       "    </tr>\n",
       "    <tr>\n",
       "      <th>6</th>\n",
       "      <td>2577802.26</td>\n",
       "    </tr>\n",
       "    <tr>\n",
       "      <th>7</th>\n",
       "      <td>2647775.76</td>\n",
       "    </tr>\n",
       "    <tr>\n",
       "      <th>8</th>\n",
       "      <td>2244467.88</td>\n",
       "    </tr>\n",
       "    <tr>\n",
       "      <th>9</th>\n",
       "      <td>2097560.13</td>\n",
       "    </tr>\n",
       "    <tr>\n",
       "      <th>10</th>\n",
       "      <td>3736726.88</td>\n",
       "    </tr>\n",
       "    <tr>\n",
       "      <th>11</th>\n",
       "      <td>3199603.20</td>\n",
       "    </tr>\n",
       "    <tr>\n",
       "      <th>12</th>\n",
       "      <td>4613443.34</td>\n",
       "    </tr>\n",
       "  </tbody>\n",
       "</table>\n",
       "</div>"
      ],
      "text/plain": [
       "       total_sales\n",
       "month             \n",
       "1       1822256.73\n",
       "2       2202022.42\n",
       "3       2807100.38\n",
       "4       3390670.24\n",
       "5       3152606.75\n",
       "6       2577802.26\n",
       "7       2647775.76\n",
       "8       2244467.88\n",
       "9       2097560.13\n",
       "10      3736726.88\n",
       "11      3199603.20\n",
       "12      4613443.34"
      ]
     },
     "execution_count": 16,
     "metadata": {},
     "output_type": "execute_result"
    }
   ],
   "source": [
    "# Making a total_sales column\n",
    "all_data['total_sales'] = all_data['Quantity Ordered'] * all_data['Price Each']\n",
    "val = all_data.groupby(['month']).agg({'total_sales':'sum'})\n",
    "val.round(2)"
   ]
  },
  {
   "cell_type": "code",
   "execution_count": 17,
   "metadata": {},
   "outputs": [
    {
     "data": {
      "text/html": [
       "<div>\n",
       "<style scoped>\n",
       "    .dataframe tbody tr th:only-of-type {\n",
       "        vertical-align: middle;\n",
       "    }\n",
       "\n",
       "    .dataframe tbody tr th {\n",
       "        vertical-align: top;\n",
       "    }\n",
       "\n",
       "    .dataframe thead th {\n",
       "        text-align: right;\n",
       "    }\n",
       "</style>\n",
       "<table border=\"1\" class=\"dataframe\">\n",
       "  <thead>\n",
       "    <tr style=\"text-align: right;\">\n",
       "      <th></th>\n",
       "      <th>Order ID</th>\n",
       "      <th>Product</th>\n",
       "      <th>Quantity Ordered</th>\n",
       "      <th>Price Each</th>\n",
       "      <th>Order Date</th>\n",
       "      <th>Purchase Address</th>\n",
       "      <th>month</th>\n",
       "      <th>total_sales</th>\n",
       "    </tr>\n",
       "  </thead>\n",
       "  <tbody>\n",
       "    <tr>\n",
       "      <th>12070</th>\n",
       "      <td>234463</td>\n",
       "      <td>Wired Headphones</td>\n",
       "      <td>1</td>\n",
       "      <td>11.99</td>\n",
       "      <td>07/20/19 15:25</td>\n",
       "      <td>292 7th St, Los Angeles, CA 90001</td>\n",
       "      <td>7</td>\n",
       "      <td>11.99</td>\n",
       "    </tr>\n",
       "    <tr>\n",
       "      <th>12210</th>\n",
       "      <td>307314</td>\n",
       "      <td>Wired Headphones</td>\n",
       "      <td>1</td>\n",
       "      <td>11.99</td>\n",
       "      <td>12/27/19 21:37</td>\n",
       "      <td>954 10th St, Los Angeles, CA 90001</td>\n",
       "      <td>12</td>\n",
       "      <td>11.99</td>\n",
       "    </tr>\n",
       "    <tr>\n",
       "      <th>4004</th>\n",
       "      <td>145030</td>\n",
       "      <td>Wired Headphones</td>\n",
       "      <td>2</td>\n",
       "      <td>11.99</td>\n",
       "      <td>01/02/19 18:24</td>\n",
       "      <td>151 Cherry St, New York City, NY 10001</td>\n",
       "      <td>1</td>\n",
       "      <td>23.98</td>\n",
       "    </tr>\n",
       "    <tr>\n",
       "      <th>13140</th>\n",
       "      <td>291350</td>\n",
       "      <td>Wired Headphones</td>\n",
       "      <td>1</td>\n",
       "      <td>11.99</td>\n",
       "      <td>11/17/19 20:42</td>\n",
       "      <td>411 River St, New York City, NY 10001</td>\n",
       "      <td>11</td>\n",
       "      <td>11.99</td>\n",
       "    </tr>\n",
       "    <tr>\n",
       "      <th>7146</th>\n",
       "      <td>200879</td>\n",
       "      <td>27in FHD Monitor</td>\n",
       "      <td>1</td>\n",
       "      <td>149.99</td>\n",
       "      <td>05/23/19 09:08</td>\n",
       "      <td>541 Chestnut St, San Francisco, CA 94016</td>\n",
       "      <td>5</td>\n",
       "      <td>149.99</td>\n",
       "    </tr>\n",
       "    <tr>\n",
       "      <th>9875</th>\n",
       "      <td>185987</td>\n",
       "      <td>Lightning Charging Cable</td>\n",
       "      <td>2</td>\n",
       "      <td>14.95</td>\n",
       "      <td>04/20/19 20:12</td>\n",
       "      <td>802 Hill St, New York City, NY 10001</td>\n",
       "      <td>4</td>\n",
       "      <td>29.90</td>\n",
       "    </tr>\n",
       "    <tr>\n",
       "      <th>14629</th>\n",
       "      <td>208012</td>\n",
       "      <td>iPhone</td>\n",
       "      <td>1</td>\n",
       "      <td>700.00</td>\n",
       "      <td>05/28/19 10:34</td>\n",
       "      <td>878 Church St, Los Angeles, CA 90001</td>\n",
       "      <td>5</td>\n",
       "      <td>700.00</td>\n",
       "    </tr>\n",
       "  </tbody>\n",
       "</table>\n",
       "</div>"
      ],
      "text/plain": [
       "       Order ID                   Product  Quantity Ordered  Price Each  \\\n",
       "12070    234463          Wired Headphones                 1       11.99   \n",
       "12210    307314          Wired Headphones                 1       11.99   \n",
       "4004     145030          Wired Headphones                 2       11.99   \n",
       "13140    291350          Wired Headphones                 1       11.99   \n",
       "7146     200879          27in FHD Monitor                 1      149.99   \n",
       "9875     185987  Lightning Charging Cable                 2       14.95   \n",
       "14629    208012                    iPhone                 1      700.00   \n",
       "\n",
       "           Order Date                          Purchase Address  month  \\\n",
       "12070  07/20/19 15:25         292 7th St, Los Angeles, CA 90001      7   \n",
       "12210  12/27/19 21:37        954 10th St, Los Angeles, CA 90001     12   \n",
       "4004   01/02/19 18:24    151 Cherry St, New York City, NY 10001      1   \n",
       "13140  11/17/19 20:42     411 River St, New York City, NY 10001     11   \n",
       "7146   05/23/19 09:08  541 Chestnut St, San Francisco, CA 94016      5   \n",
       "9875   04/20/19 20:12      802 Hill St, New York City, NY 10001      4   \n",
       "14629  05/28/19 10:34      878 Church St, Los Angeles, CA 90001      5   \n",
       "\n",
       "       total_sales  \n",
       "12070        11.99  \n",
       "12210        11.99  \n",
       "4004         23.98  \n",
       "13140        11.99  \n",
       "7146        149.99  \n",
       "9875         29.90  \n",
       "14629       700.00  "
      ]
     },
     "execution_count": 17,
     "metadata": {},
     "output_type": "execute_result"
    }
   ],
   "source": [
    "all_data.sample(7)"
   ]
  },
  {
   "cell_type": "code",
   "execution_count": 18,
   "metadata": {},
   "outputs": [
    {
     "data": {
      "image/png": "[encoded data removed]",
      "text/plain": [
       "<Figure size 432x288 with 1 Axes>"
      ]
     },
     "metadata": {
      "needs_background": "light"
     },
     "output_type": "display_data"
    }
   ],
   "source": [
    "months = [month for month,data in all_data.groupby(['month'])]\n",
    "# Method2: months = range(1,13)\n",
    "\n",
    "plt.bar(months,val['total_sales'])\n",
    "plt.xlabel('Months')\n",
    "plt.ylabel('Sales in million USD')\n",
    "plt.show()"
   ]
  },
  {
   "cell_type": "markdown",
   "metadata": {},
   "source": [
    "### December has highest sales of about 4.6 million USD"
   ]
  },
  {
   "cell_type": "markdown",
   "metadata": {},
   "source": [
    "# What city sold the most product ?\n"
   ]
  },
  {
   "cell_type": "code",
   "execution_count": 19,
   "metadata": {},
   "outputs": [],
   "source": [
    "all_data['city'] = all_data['Purchase Address'].apply(lambda x: x.split(',')[1])"
   ]
  },
  {
   "cell_type": "code",
   "execution_count": 20,
   "metadata": {},
   "outputs": [
    {
     "data": {
      "text/plain": [
       "array([' Dallas', ' Boston', ' Los Angeles', ..., ' San Francisco',\n",
       "       ' San Francisco', ' San Francisco'], dtype=object)"
      ]
     },
     "execution_count": 20,
     "metadata": {},
     "output_type": "execute_result"
    }
   ],
   "source": [
    "all_data['city'].values"
   ]
  },
  {
   "cell_type": "code",
   "execution_count": 21,
   "metadata": {},
   "outputs": [
    {
     "data": {
      "text/plain": [
       "False"
      ]
     },
     "execution_count": 21,
     "metadata": {},
     "output_type": "execute_result"
    }
   ],
   "source": [
    "(all_data.values == 'Los Angeles').any()"
   ]
  },
  {
   "cell_type": "markdown",
   "metadata": {},
   "source": [
    "## There are some whitespace character in 'city' column "
   ]
  },
  {
   "cell_type": "code",
   "execution_count": 22,
   "metadata": {},
   "outputs": [
    {
     "data": {
      "text/plain": [
       "True"
      ]
     },
     "execution_count": 22,
     "metadata": {},
     "output_type": "execute_result"
    }
   ],
   "source": [
    "(all_data.values == ' Los Angeles').any()"
   ]
  },
  {
   "cell_type": "markdown",
   "metadata": {},
   "source": [
    "## Removing whitespace character in 'city' column"
   ]
  },
  {
   "cell_type": "code",
   "execution_count": 23,
   "metadata": {},
   "outputs": [],
   "source": [
    "all_data['city'] = all_data['city'].apply(lambda y: y.strip())"
   ]
  },
  {
   "cell_type": "code",
   "execution_count": 24,
   "metadata": {},
   "outputs": [
    {
     "data": {
      "text/plain": [
       "array(['Dallas', 'Boston', 'Los Angeles', ..., 'San Francisco',\n",
       "       'San Francisco', 'San Francisco'], dtype=object)"
      ]
     },
     "execution_count": 24,
     "metadata": {},
     "output_type": "execute_result"
    }
   ],
   "source": [
    "all_data['city'].values"
   ]
  },
  {
   "cell_type": "markdown",
   "metadata": {},
   "source": [
    "## Many states have same city names, so we have to report cities with their state name"
   ]
  },
  {
   "cell_type": "code",
   "execution_count": 25,
   "metadata": {},
   "outputs": [
    {
     "data": {
      "text/plain": [
       "array(['Dallas(TX)', 'Boston(MA)', 'Los Angeles(CA)', ...,\n",
       "       'San Francisco(CA)', 'San Francisco(CA)', 'San Francisco(CA)'],\n",
       "      dtype=object)"
      ]
     },
     "execution_count": 25,
     "metadata": {},
     "output_type": "execute_result"
    }
   ],
   "source": [
    "def finding_state(address):\n",
    "    return address.split(',')[2].split(' ')[1]\n",
    "\n",
    "all_data['city'] = all_data['city'] + all_data['Purchase Address'].apply(lambda x:'(' + finding_state(x) + ')')\n",
    "all_data['city'].values"
   ]
  },
  {
   "cell_type": "markdown",
   "metadata": {},
   "source": [
    "## Total sales city wise in USD "
   ]
  },
  {
   "cell_type": "code",
   "execution_count": 26,
   "metadata": {},
   "outputs": [
    {
     "data": {
      "text/plain": [
       "city\n",
       "Atlanta(GA)          2795498.58\n",
       "Austin(TX)           1819581.75\n",
       "Boston(MA)           3661642.01\n",
       "Dallas(TX)           2767975.40\n",
       "Los Angeles(CA)      5452570.80\n",
       "New York City(NY)    4664317.43\n",
       "Portland(ME)          449758.27\n",
       "Portland(OR)         1870732.34\n",
       "San Francisco(CA)    8262203.91\n",
       "Seattle(WA)          2747755.48\n",
       "Name: total_sales, dtype: float64"
      ]
     },
     "execution_count": 26,
     "metadata": {},
     "output_type": "execute_result"
    }
   ],
   "source": [
    "sales = all_data.groupby(['city']).agg({'total_sales':'sum'})\n",
    "sales['total_sales'].round(2)"
   ]
  },
  {
   "cell_type": "code",
   "execution_count": 27,
   "metadata": {},
   "outputs": [
    {
     "data": {
      "text/plain": [
       "['Atlanta(GA)',\n",
       " 'Austin(TX)',\n",
       " 'Boston(MA)',\n",
       " 'Dallas(TX)',\n",
       " 'Los Angeles(CA)',\n",
       " 'New York City(NY)',\n",
       " 'Portland(ME)',\n",
       " 'Portland(OR)',\n",
       " 'San Francisco(CA)',\n",
       " 'Seattle(WA)']"
      ]
     },
     "execution_count": 27,
     "metadata": {},
     "output_type": "execute_result"
    }
   ],
   "source": [
    "cities = [city for city,data in all_data.groupby(['city'])]\n",
    "cities"
   ]
  },
  {
   "cell_type": "code",
   "execution_count": 28,
   "metadata": {},
   "outputs": [
    {
     "data": {
      "image/png": "[encoded data removed]",
      "text/plain": [
       "<Figure size 432x288 with 1 Axes>"
      ]
     },
     "metadata": {
      "needs_background": "light"
     },
     "output_type": "display_data"
    }
   ],
   "source": [
    "plt.bar(cities,sales['total_sales'])\n",
    "plt.xticks(cities,rotation='vertical',size=12)\n",
    "plt.xlabel('City Name')\n",
    "plt.ylabel('Sales in million USD')\n",
    "plt.style.use('ggplot')\n",
    "plt.show()"
   ]
  },
  {
   "cell_type": "markdown",
   "metadata": {},
   "source": [
    "### San Francisco,California have highest sales "
   ]
  },
  {
   "cell_type": "markdown",
   "metadata": {},
   "source": [
    "# What time should we display advertisements to maximize the likelihood of purchases?"
   ]
  },
  {
   "cell_type": "code",
   "execution_count": 29,
   "metadata": {},
   "outputs": [],
   "source": [
    "# Converting column to date time format\n",
    "all_data['Order Date'] = pd.to_datetime(all_data['Order Date'])"
   ]
  },
  {
   "cell_type": "code",
   "execution_count": 30,
   "metadata": {},
   "outputs": [
    {
     "data": {
      "text/html": [
       "<div>\n",
       "<style scoped>\n",
       "    .dataframe tbody tr th:only-of-type {\n",
       "        vertical-align: middle;\n",
       "    }\n",
       "\n",
       "    .dataframe tbody tr th {\n",
       "        vertical-align: top;\n",
       "    }\n",
       "\n",
       "    .dataframe thead th {\n",
       "        text-align: right;\n",
       "    }\n",
       "</style>\n",
       "<table border=\"1\" class=\"dataframe\">\n",
       "  <thead>\n",
       "    <tr style=\"text-align: right;\">\n",
       "      <th></th>\n",
       "      <th>Order ID</th>\n",
       "    </tr>\n",
       "    <tr>\n",
       "      <th>hours</th>\n",
       "      <th></th>\n",
       "    </tr>\n",
       "  </thead>\n",
       "  <tbody>\n",
       "    <tr>\n",
       "      <th>0</th>\n",
       "      <td>3910</td>\n",
       "    </tr>\n",
       "    <tr>\n",
       "      <th>1</th>\n",
       "      <td>2350</td>\n",
       "    </tr>\n",
       "    <tr>\n",
       "      <th>2</th>\n",
       "      <td>1243</td>\n",
       "    </tr>\n",
       "    <tr>\n",
       "      <th>3</th>\n",
       "      <td>831</td>\n",
       "    </tr>\n",
       "    <tr>\n",
       "      <th>4</th>\n",
       "      <td>854</td>\n",
       "    </tr>\n",
       "    <tr>\n",
       "      <th>5</th>\n",
       "      <td>1321</td>\n",
       "    </tr>\n",
       "    <tr>\n",
       "      <th>6</th>\n",
       "      <td>2482</td>\n",
       "    </tr>\n",
       "    <tr>\n",
       "      <th>7</th>\n",
       "      <td>4011</td>\n",
       "    </tr>\n",
       "    <tr>\n",
       "      <th>8</th>\n",
       "      <td>6256</td>\n",
       "    </tr>\n",
       "    <tr>\n",
       "      <th>9</th>\n",
       "      <td>8748</td>\n",
       "    </tr>\n",
       "    <tr>\n",
       "      <th>10</th>\n",
       "      <td>10944</td>\n",
       "    </tr>\n",
       "    <tr>\n",
       "      <th>11</th>\n",
       "      <td>12411</td>\n",
       "    </tr>\n",
       "    <tr>\n",
       "      <th>12</th>\n",
       "      <td>12587</td>\n",
       "    </tr>\n",
       "    <tr>\n",
       "      <th>13</th>\n",
       "      <td>12129</td>\n",
       "    </tr>\n",
       "    <tr>\n",
       "      <th>14</th>\n",
       "      <td>10984</td>\n",
       "    </tr>\n",
       "    <tr>\n",
       "      <th>15</th>\n",
       "      <td>10175</td>\n",
       "    </tr>\n",
       "    <tr>\n",
       "      <th>16</th>\n",
       "      <td>10384</td>\n",
       "    </tr>\n",
       "    <tr>\n",
       "      <th>17</th>\n",
       "      <td>10899</td>\n",
       "    </tr>\n",
       "    <tr>\n",
       "      <th>18</th>\n",
       "      <td>12280</td>\n",
       "    </tr>\n",
       "    <tr>\n",
       "      <th>19</th>\n",
       "      <td>12905</td>\n",
       "    </tr>\n",
       "    <tr>\n",
       "      <th>20</th>\n",
       "      <td>12228</td>\n",
       "    </tr>\n",
       "    <tr>\n",
       "      <th>21</th>\n",
       "      <td>10921</td>\n",
       "    </tr>\n",
       "    <tr>\n",
       "      <th>22</th>\n",
       "      <td>8822</td>\n",
       "    </tr>\n",
       "    <tr>\n",
       "      <th>23</th>\n",
       "      <td>6275</td>\n",
       "    </tr>\n",
       "  </tbody>\n",
       "</table>\n",
       "</div>"
      ],
      "text/plain": [
       "       Order ID\n",
       "hours          \n",
       "0          3910\n",
       "1          2350\n",
       "2          1243\n",
       "3           831\n",
       "4           854\n",
       "5          1321\n",
       "6          2482\n",
       "7          4011\n",
       "8          6256\n",
       "9          8748\n",
       "10        10944\n",
       "11        12411\n",
       "12        12587\n",
       "13        12129\n",
       "14        10984\n",
       "15        10175\n",
       "16        10384\n",
       "17        10899\n",
       "18        12280\n",
       "19        12905\n",
       "20        12228\n",
       "21        10921\n",
       "22         8822\n",
       "23         6275"
      ]
     },
     "execution_count": 30,
     "metadata": {},
     "output_type": "execute_result"
    }
   ],
   "source": [
    "all_data['hours'] = all_data['Order Date'].dt.hour\n",
    "\n",
    "no_of_sales = all_data.groupby(['hours']).agg({'Order ID':'count'})\n",
    "no_of_sales"
   ]
  },
  {
   "cell_type": "code",
   "execution_count": 31,
   "metadata": {},
   "outputs": [
    {
     "data": {
      "image/png": "[encoded data removed]",
      "text/plain": [
       "<Figure size 432x288 with 1 Axes>"
      ]
     },
     "metadata": {},
     "output_type": "display_data"
    }
   ],
   "source": [
    "hours = [hour for hour,data in all_data.groupby(['hours'])]\n",
    "# Method2: hours = range(0,24)\n",
    "\n",
    "# line graph\n",
    "plt.plot(hours,no_of_sales['Order ID'])\n",
    "plt.xticks(hours)\n",
    "plt.xlabel('Hours')\n",
    "plt.ylabel('Number of sales')\n",
    "plt.title('Hourly number of sales')\n",
    "plt.show()"
   ]
  },
  {
   "cell_type": "markdown",
   "metadata": {},
   "source": [
    "### Sellers should advertise their product between or just before 11am to 1pm and 6pm to 8pm to increase their sales"
   ]
  },
  {
   "cell_type": "markdown",
   "metadata": {},
   "source": [
    "# What time should we display advertisements to increase sales in Portland,ME "
   ]
  },
  {
   "cell_type": "code",
   "execution_count": 32,
   "metadata": {},
   "outputs": [
    {
     "data": {
      "text/html": [
       "<div>\n",
       "<style scoped>\n",
       "    .dataframe tbody tr th:only-of-type {\n",
       "        vertical-align: middle;\n",
       "    }\n",
       "\n",
       "    .dataframe tbody tr th {\n",
       "        vertical-align: top;\n",
       "    }\n",
       "\n",
       "    .dataframe thead th {\n",
       "        text-align: right;\n",
       "    }\n",
       "</style>\n",
       "<table border=\"1\" class=\"dataframe\">\n",
       "  <thead>\n",
       "    <tr style=\"text-align: right;\">\n",
       "      <th></th>\n",
       "      <th></th>\n",
       "      <th>Order ID</th>\n",
       "    </tr>\n",
       "    <tr>\n",
       "      <th>city</th>\n",
       "      <th>hours</th>\n",
       "      <th></th>\n",
       "    </tr>\n",
       "  </thead>\n",
       "  <tbody>\n",
       "    <tr>\n",
       "      <th rowspan=\"5\" valign=\"top\">Atlanta(GA)</th>\n",
       "      <th>0</th>\n",
       "      <td>310</td>\n",
       "    </tr>\n",
       "    <tr>\n",
       "      <th>1</th>\n",
       "      <td>213</td>\n",
       "    </tr>\n",
       "    <tr>\n",
       "      <th>2</th>\n",
       "      <td>113</td>\n",
       "    </tr>\n",
       "    <tr>\n",
       "      <th>3</th>\n",
       "      <td>57</td>\n",
       "    </tr>\n",
       "    <tr>\n",
       "      <th>4</th>\n",
       "      <td>80</td>\n",
       "    </tr>\n",
       "    <tr>\n",
       "      <th>...</th>\n",
       "      <th>...</th>\n",
       "      <td>...</td>\n",
       "    </tr>\n",
       "    <tr>\n",
       "      <th rowspan=\"5\" valign=\"top\">Seattle(WA)</th>\n",
       "      <th>19</th>\n",
       "      <td>989</td>\n",
       "    </tr>\n",
       "    <tr>\n",
       "      <th>20</th>\n",
       "      <td>988</td>\n",
       "    </tr>\n",
       "    <tr>\n",
       "      <th>21</th>\n",
       "      <td>869</td>\n",
       "    </tr>\n",
       "    <tr>\n",
       "      <th>22</th>\n",
       "      <td>693</td>\n",
       "    </tr>\n",
       "    <tr>\n",
       "      <th>23</th>\n",
       "      <td>551</td>\n",
       "    </tr>\n",
       "  </tbody>\n",
       "</table>\n",
       "<p>240 rows × 1 columns</p>\n",
       "</div>"
      ],
      "text/plain": [
       "                   Order ID\n",
       "city        hours          \n",
       "Atlanta(GA) 0           310\n",
       "            1           213\n",
       "            2           113\n",
       "            3            57\n",
       "            4            80\n",
       "...                     ...\n",
       "Seattle(WA) 19          989\n",
       "            20          988\n",
       "            21          869\n",
       "            22          693\n",
       "            23          551\n",
       "\n",
       "[240 rows x 1 columns]"
      ]
     },
     "execution_count": 32,
     "metadata": {},
     "output_type": "execute_result"
    }
   ],
   "source": [
    "citywise_data = all_data.groupby(['city','hours']).agg({'Order ID':'count'})\n",
    "citywise_data"
   ]
  },
  {
   "cell_type": "markdown",
   "metadata": {},
   "source": [
    "## Hourly sales in Portland,ME"
   ]
  },
  {
   "cell_type": "code",
   "execution_count": 33,
   "metadata": {},
   "outputs": [
    {
     "data": {
      "text/html": [
       "<div>\n",
       "<style scoped>\n",
       "    .dataframe tbody tr th:only-of-type {\n",
       "        vertical-align: middle;\n",
       "    }\n",
       "\n",
       "    .dataframe tbody tr th {\n",
       "        vertical-align: top;\n",
       "    }\n",
       "\n",
       "    .dataframe thead th {\n",
       "        text-align: right;\n",
       "    }\n",
       "</style>\n",
       "<table border=\"1\" class=\"dataframe\">\n",
       "  <thead>\n",
       "    <tr style=\"text-align: right;\">\n",
       "      <th></th>\n",
       "      <th></th>\n",
       "      <th>Order ID</th>\n",
       "    </tr>\n",
       "    <tr>\n",
       "      <th>city</th>\n",
       "      <th>hours</th>\n",
       "      <th></th>\n",
       "    </tr>\n",
       "  </thead>\n",
       "  <tbody>\n",
       "    <tr>\n",
       "      <th rowspan=\"24\" valign=\"top\">Portland(ME)</th>\n",
       "      <th>0</th>\n",
       "      <td>48</td>\n",
       "    </tr>\n",
       "    <tr>\n",
       "      <th>1</th>\n",
       "      <td>34</td>\n",
       "    </tr>\n",
       "    <tr>\n",
       "      <th>2</th>\n",
       "      <td>14</td>\n",
       "    </tr>\n",
       "    <tr>\n",
       "      <th>3</th>\n",
       "      <td>11</td>\n",
       "    </tr>\n",
       "    <tr>\n",
       "      <th>4</th>\n",
       "      <td>11</td>\n",
       "    </tr>\n",
       "    <tr>\n",
       "      <th>5</th>\n",
       "      <td>14</td>\n",
       "    </tr>\n",
       "    <tr>\n",
       "      <th>6</th>\n",
       "      <td>40</td>\n",
       "    </tr>\n",
       "    <tr>\n",
       "      <th>7</th>\n",
       "      <td>56</td>\n",
       "    </tr>\n",
       "    <tr>\n",
       "      <th>8</th>\n",
       "      <td>83</td>\n",
       "    </tr>\n",
       "    <tr>\n",
       "      <th>9</th>\n",
       "      <td>106</td>\n",
       "    </tr>\n",
       "    <tr>\n",
       "      <th>10</th>\n",
       "      <td>158</td>\n",
       "    </tr>\n",
       "    <tr>\n",
       "      <th>11</th>\n",
       "      <td>177</td>\n",
       "    </tr>\n",
       "    <tr>\n",
       "      <th>12</th>\n",
       "      <td>161</td>\n",
       "    </tr>\n",
       "    <tr>\n",
       "      <th>13</th>\n",
       "      <td>149</td>\n",
       "    </tr>\n",
       "    <tr>\n",
       "      <th>14</th>\n",
       "      <td>143</td>\n",
       "    </tr>\n",
       "    <tr>\n",
       "      <th>15</th>\n",
       "      <td>141</td>\n",
       "    </tr>\n",
       "    <tr>\n",
       "      <th>16</th>\n",
       "      <td>138</td>\n",
       "    </tr>\n",
       "    <tr>\n",
       "      <th>17</th>\n",
       "      <td>153</td>\n",
       "    </tr>\n",
       "    <tr>\n",
       "      <th>18</th>\n",
       "      <td>163</td>\n",
       "    </tr>\n",
       "    <tr>\n",
       "      <th>19</th>\n",
       "      <td>176</td>\n",
       "    </tr>\n",
       "    <tr>\n",
       "      <th>20</th>\n",
       "      <td>156</td>\n",
       "    </tr>\n",
       "    <tr>\n",
       "      <th>21</th>\n",
       "      <td>138</td>\n",
       "    </tr>\n",
       "    <tr>\n",
       "      <th>22</th>\n",
       "      <td>121</td>\n",
       "    </tr>\n",
       "    <tr>\n",
       "      <th>23</th>\n",
       "      <td>64</td>\n",
       "    </tr>\n",
       "  </tbody>\n",
       "</table>\n",
       "</div>"
      ],
      "text/plain": [
       "                    Order ID\n",
       "city         hours          \n",
       "Portland(ME) 0            48\n",
       "             1            34\n",
       "             2            14\n",
       "             3            11\n",
       "             4            11\n",
       "             5            14\n",
       "             6            40\n",
       "             7            56\n",
       "             8            83\n",
       "             9           106\n",
       "             10          158\n",
       "             11          177\n",
       "             12          161\n",
       "             13          149\n",
       "             14          143\n",
       "             15          141\n",
       "             16          138\n",
       "             17          153\n",
       "             18          163\n",
       "             19          176\n",
       "             20          156\n",
       "             21          138\n",
       "             22          121\n",
       "             23           64"
      ]
     },
     "execution_count": 33,
     "metadata": {},
     "output_type": "execute_result"
    }
   ],
   "source": [
    "hourly_sales = citywise_data.iloc[citywise_data.index.get_level_values('city') == 'Portland(ME)']\n",
    "# Another method: y = check.iloc[check.index.get_level_values(grouped_data_name='city' or grouped_data_level=0) == ' Atlanta (GA)']\n",
    "\n",
    "hourly_sales"
   ]
  },
  {
   "cell_type": "code",
   "execution_count": 34,
   "metadata": {},
   "outputs": [
    {
     "data": {
      "image/png": "[encoded data removed]",
      "text/plain": [
       "<Figure size 432x288 with 1 Axes>"
      ]
     },
     "metadata": {},
     "output_type": "display_data"
    }
   ],
   "source": [
    "hours = [hour for hour,data in all_data.groupby(['hours'])]\n",
    "plt.xlabel('Hours')\n",
    "plt.xticks(hours)\n",
    "plt.ylabel('Number of sales')\n",
    "plt.title('Hourly number of sales in Portland,ME')\n",
    "plt.plot(hours,hourly_sales.values)\n",
    "plt.show()"
   ]
  },
  {
   "cell_type": "code",
   "execution_count": 35,
   "metadata": {},
   "outputs": [],
   "source": [
    "# TODO: Conclusion from above graph"
   ]
  },
  {
   "cell_type": "markdown",
   "metadata": {},
   "source": [
    "# What products are most often sold together?"
   ]
  },
  {
   "cell_type": "code",
   "execution_count": 36,
   "metadata": {},
   "outputs": [
    {
     "name": "stdout",
     "output_type": "stream",
     "text": [
      "Order ID's with multiple products:\n",
      " 2        176560\n",
      "3        176560\n",
      "17       176574\n",
      "18       176574\n",
      "29       176585\n",
      "          ...  \n",
      "11628    259303\n",
      "11639    259314\n",
      "11640    259314\n",
      "11677    259350\n",
      "11678    259350\n",
      "Name: Order ID, Length: 14649, dtype: int32\n"
     ]
    }
   ],
   "source": [
    "multi_prod = all_data[all_data.duplicated(subset='Order ID',keep = False)]\n",
    "print(\"Order ID's with multiple products:\\n\",multi_prod['Order ID'])"
   ]
  },
  {
   "cell_type": "code",
   "execution_count": 37,
   "metadata": {},
   "outputs": [
    {
     "data": {
      "text/html": [
       "<div>\n",
       "<style scoped>\n",
       "    .dataframe tbody tr th:only-of-type {\n",
       "        vertical-align: middle;\n",
       "    }\n",
       "\n",
       "    .dataframe tbody tr th {\n",
       "        vertical-align: top;\n",
       "    }\n",
       "\n",
       "    .dataframe thead th {\n",
       "        text-align: right;\n",
       "    }\n",
       "</style>\n",
       "<table border=\"1\" class=\"dataframe\">\n",
       "  <thead>\n",
       "    <tr style=\"text-align: right;\">\n",
       "      <th></th>\n",
       "      <th>Order ID</th>\n",
       "      <th>Product</th>\n",
       "      <th>Quantity Ordered</th>\n",
       "      <th>Price Each</th>\n",
       "      <th>Order Date</th>\n",
       "      <th>Purchase Address</th>\n",
       "      <th>month</th>\n",
       "      <th>total_sales</th>\n",
       "      <th>city</th>\n",
       "      <th>hours</th>\n",
       "    </tr>\n",
       "  </thead>\n",
       "  <tbody>\n",
       "    <tr>\n",
       "      <th>2</th>\n",
       "      <td>176560</td>\n",
       "      <td>Google Phone</td>\n",
       "      <td>1</td>\n",
       "      <td>600.00</td>\n",
       "      <td>2019-04-12 14:38:00</td>\n",
       "      <td>669 Spruce St, Los Angeles, CA 90001</td>\n",
       "      <td>4</td>\n",
       "      <td>600.00</td>\n",
       "      <td>Los Angeles(CA)</td>\n",
       "      <td>14</td>\n",
       "    </tr>\n",
       "    <tr>\n",
       "      <th>3</th>\n",
       "      <td>176560</td>\n",
       "      <td>Wired Headphones</td>\n",
       "      <td>1</td>\n",
       "      <td>11.99</td>\n",
       "      <td>2019-04-12 14:38:00</td>\n",
       "      <td>669 Spruce St, Los Angeles, CA 90001</td>\n",
       "      <td>4</td>\n",
       "      <td>11.99</td>\n",
       "      <td>Los Angeles(CA)</td>\n",
       "      <td>14</td>\n",
       "    </tr>\n",
       "  </tbody>\n",
       "</table>\n",
       "</div>"
      ],
      "text/plain": [
       "   Order ID           Product  Quantity Ordered  Price Each  \\\n",
       "2    176560      Google Phone                 1      600.00   \n",
       "3    176560  Wired Headphones                 1       11.99   \n",
       "\n",
       "           Order Date                      Purchase Address  month  \\\n",
       "2 2019-04-12 14:38:00  669 Spruce St, Los Angeles, CA 90001      4   \n",
       "3 2019-04-12 14:38:00  669 Spruce St, Los Angeles, CA 90001      4   \n",
       "\n",
       "   total_sales             city  hours  \n",
       "2       600.00  Los Angeles(CA)     14  \n",
       "3        11.99  Los Angeles(CA)     14  "
      ]
     },
     "execution_count": 37,
     "metadata": {},
     "output_type": "execute_result"
    }
   ],
   "source": [
    "multi_prod[multi_prod['Order ID'] == 176560]"
   ]
  },
  {
   "cell_type": "code",
   "execution_count": 38,
   "metadata": {},
   "outputs": [
    {
     "name": "stderr",
     "output_type": "stream",
     "text": [
      "<ipython-input-38-e28314af4e4d>:1: SettingWithCopyWarning: \n",
      "A value is trying to be set on a copy of a slice from a DataFrame.\n",
      "Try using .loc[row_indexer,col_indexer] = value instead\n",
      "\n",
      "See the caveats in the documentation: https://pandas.pydata.org/pandas-docs/stable/user_guide/indexing.html#returning-a-view-versus-a-copy\n",
      "  multi_prod['m_order'] = multi_prod.groupby(['Order ID'])['Product'].transform(lambda x: ','.join(x))\n"
     ]
    }
   ],
   "source": [
    "multi_prod['m_order'] = multi_prod.groupby(['Order ID'])['Product'].transform(lambda x: ','.join(x))"
   ]
  },
  {
   "cell_type": "code",
   "execution_count": 39,
   "metadata": {},
   "outputs": [
    {
     "name": "stderr",
     "output_type": "stream",
     "text": [
      "<ipython-input-39-53326f64130f>:1: SettingWithCopyWarning: \n",
      "A value is trying to be set on a copy of a slice from a DataFrame\n",
      "\n",
      "See the caveats in the documentation: https://pandas.pydata.org/pandas-docs/stable/user_guide/indexing.html#returning-a-view-versus-a-copy\n",
      "  multi_prod.drop_duplicates(subset='Order ID',keep='last',inplace=True)\n"
     ]
    }
   ],
   "source": [
    "multi_prod.drop_duplicates(subset='Order ID',keep='last',inplace=True)"
   ]
  },
  {
   "cell_type": "code",
   "execution_count": 40,
   "metadata": {},
   "outputs": [
    {
     "data": {
      "text/html": [
       "<div>\n",
       "<style scoped>\n",
       "    .dataframe tbody tr th:only-of-type {\n",
       "        vertical-align: middle;\n",
       "    }\n",
       "\n",
       "    .dataframe tbody tr th {\n",
       "        vertical-align: top;\n",
       "    }\n",
       "\n",
       "    .dataframe thead th {\n",
       "        text-align: right;\n",
       "    }\n",
       "</style>\n",
       "<table border=\"1\" class=\"dataframe\">\n",
       "  <thead>\n",
       "    <tr style=\"text-align: right;\">\n",
       "      <th></th>\n",
       "      <th>Order ID</th>\n",
       "      <th>Product</th>\n",
       "      <th>Quantity Ordered</th>\n",
       "      <th>Price Each</th>\n",
       "      <th>Order Date</th>\n",
       "      <th>Purchase Address</th>\n",
       "      <th>month</th>\n",
       "      <th>total_sales</th>\n",
       "      <th>city</th>\n",
       "      <th>hours</th>\n",
       "      <th>m_order</th>\n",
       "    </tr>\n",
       "  </thead>\n",
       "  <tbody>\n",
       "    <tr>\n",
       "      <th>3</th>\n",
       "      <td>176560</td>\n",
       "      <td>Wired Headphones</td>\n",
       "      <td>1</td>\n",
       "      <td>11.99</td>\n",
       "      <td>2019-04-12 14:38:00</td>\n",
       "      <td>669 Spruce St, Los Angeles, CA 90001</td>\n",
       "      <td>4</td>\n",
       "      <td>11.99</td>\n",
       "      <td>Los Angeles(CA)</td>\n",
       "      <td>14</td>\n",
       "      <td>Google Phone,Wired Headphones</td>\n",
       "    </tr>\n",
       "  </tbody>\n",
       "</table>\n",
       "</div>"
      ],
      "text/plain": [
       "   Order ID           Product  Quantity Ordered  Price Each  \\\n",
       "3    176560  Wired Headphones                 1       11.99   \n",
       "\n",
       "           Order Date                      Purchase Address  month  \\\n",
       "3 2019-04-12 14:38:00  669 Spruce St, Los Angeles, CA 90001      4   \n",
       "\n",
       "   total_sales             city  hours                        m_order  \n",
       "3        11.99  Los Angeles(CA)     14  Google Phone,Wired Headphones  "
      ]
     },
     "execution_count": 40,
     "metadata": {},
     "output_type": "execute_result"
    }
   ],
   "source": [
    "multi_prod[multi_prod['Order ID'] == 176560]"
   ]
  },
  {
   "cell_type": "code",
   "execution_count": 80,
   "metadata": {},
   "outputs": [
    {
     "name": "stdout",
     "output_type": "stream",
     "text": [
      "('iPhone', 'Lightning Charging Cable') : 1005\n",
      "('Google Phone', 'USB-C Charging Cable') : 987\n",
      "('iPhone', 'Wired Headphones') : 447\n",
      "('Google Phone', 'Wired Headphones') : 414\n",
      "('Vareebadd Phone', 'USB-C Charging Cable') : 361\n",
      "('iPhone', 'Apple Airpods Headphones') : 360\n",
      "('Google Phone', 'Bose SoundSport Headphones') : 220\n",
      "('USB-C Charging Cable', 'Wired Headphones') : 160\n",
      "('Vareebadd Phone', 'Wired Headphones') : 143\n",
      "('Lightning Charging Cable', 'Wired Headphones') : 92\n"
     ]
    }
   ],
   "source": [
    "from itertools import combinations\n",
    "from collections import Counter\n",
    "\n",
    "sublist_to_count = list()\n",
    "holding_values = dict()\n",
    "\n",
    "count = Counter()\n",
    "\n",
    "for prod in multi_prod['m_order']:\n",
    "    sublist_to_count = prod.split(',')\n",
    "    count.update(combinations(sublist_to_count, 2))\n",
    "\n",
    "for key,val in count.most_common(10):\n",
    "    print(key,':',val)\n"
   ]
  },
  {
   "cell_type": "markdown",
   "metadata": {},
   "source": [
    "### When a customer is buying a phone it is most likely that they will buy a charging cable and headphone with it."
   ]
  }
 ],
 "metadata": {
  "kernelspec": {
   "display_name": "Python 3",
   "language": "python",
   "name": "python3"
  },
  "language_info": {
   "codemirror_mode": {
    "name": "ipython",
    "version": 3
   },
   "file_extension": ".py",
   "mimetype": "text/x-python",
   "name": "python",
   "nbconvert_exporter": "python",
   "pygments_lexer": "ipython3",
   "version": "3.8.3"
  }
 },
 "nbformat": 4,
 "nbformat_minor": 4
}
